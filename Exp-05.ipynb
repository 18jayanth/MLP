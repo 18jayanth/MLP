{
 "cells": [
  {
   "cell_type": "markdown",
   "id": "ae4bf001",
   "metadata": {},
   "source": [
    "### Experiment-5:\n",
    "Develop a program for Bias, Variance, Remove duplicates ,Cross Validation"
   ]
  },
  {
   "cell_type": "markdown",
   "id": "0ab67fba",
   "metadata": {},
   "source": [
    "BIAS, VARIANCE"
   ]
  },
  {
   "cell_type": "code",
   "execution_count": 3,
   "id": "6280d609",
   "metadata": {},
   "outputs": [
    {
     "name": "stdout",
     "output_type": "stream",
     "text": [
      "Bias: 20.744\n",
      "Variance: 1.674\n"
     ]
    }
   ],
   "source": [
    "from pandas import read_csv\n",
    "from sklearn.model_selection import train_test_split\n",
    "from sklearn.linear_model import LinearRegression\n",
    "from mlxtend.evaluate import bias_variance_decomp\n",
    "\n",
    "dataframe = read_csv('../All Data_Sets/housing.csv', header=None)\n",
    "data = dataframe.values\n",
    "X, y = data[:, :-1], data[:, -1]\n",
    "X_train,X_test,y_train,y_test = train_test_split(X,y,test_size=0.33,random_state=1)\n",
    "model = LinearRegression()\n",
    "mse, bias, var = bias_variance_decomp(model, X_train, y_train, X_test, \n",
    "y_test, loss='mse', num_rounds=200, random_seed=1)\n",
    "print('Bias: %.3f' % bias)\n",
    "print('Variance: %.3f' % var)"
   ]
  },
  {
   "cell_type": "markdown",
   "id": "7fdf1d4d",
   "metadata": {},
   "source": [
    "REMOVE DUPLICATES"
   ]
  },
  {
   "cell_type": "code",
   "execution_count": 4,
   "id": "04d42c8a",
   "metadata": {},
   "outputs": [
    {
     "name": "stdout",
     "output_type": "stream",
     "text": [
      "Data With Duplicates:\n",
      "   col1 col2 col3\n",
      "0     1    a    A\n",
      "1     1    a    A\n",
      "2     3    a    B\n",
      "3     4    b    C\n",
      "4     5    c    B\n",
      "5     2    d    D\n",
      "6     2    d    D\n",
      "Data After Removing Duplicates:\n",
      "   col1 col2 col3\n",
      "0     1    a    A\n",
      "2     3    a    B\n",
      "3     4    b    C\n",
      "4     5    c    B\n",
      "5     2    d    D\n"
     ]
    }
   ],
   "source": [
    "import pandas as pd\n",
    "from pandas import Series, DataFrame\n",
    "\n",
    "data_obj = DataFrame({\n",
    " \"col1\":[1,1,3,4,5,2,2],\n",
    " \"col2\":[\"a\",\"a\",\"a\",\"b\",\"c\",\"d\",\"d\"],\n",
    " \"col3\":[\"A\",\"A\",\"B\",\"C\",\"B\",\"D\",\"D\"],\n",
    "})\n",
    "print(\"Data With Duplicates:\")\n",
    "print(data_obj)\n",
    "print(\"Data After Removing Duplicates:\")\n",
    "print(data_obj.drop_duplicates())"
   ]
  },
  {
   "cell_type": "markdown",
   "id": "db74e225",
   "metadata": {},
   "source": [
    "CROSS VALIDATION"
   ]
  },
  {
   "cell_type": "code",
   "execution_count": 8,
   "id": "712cb029",
   "metadata": {},
   "outputs": [],
   "source": [
    "import numpy as np\n",
    "import pandas as pd\n",
    "from sklearn.linear_model import Ridge\n",
    "from sklearn.preprocessing import StandardScaler\n",
    "from sklearn.model_selection import cross_validate,train_test_split"
   ]
  },
  {
   "cell_type": "code",
   "execution_count": 9,
   "id": "0d45d9b9",
   "metadata": {},
   "outputs": [],
   "source": [
    "df = pd.read_csv('../All Data_Sets/Advertising.csv')\n",
    "X = df.drop('sales',axis=1)\n",
    "y = df['sales']\n",
    "X_train,X_test,y_train,y_test = train_test_split(X,y,test_size=0.3,random_state=101)"
   ]
  },
  {
   "cell_type": "code",
   "execution_count": 11,
   "id": "c6a6acf4",
   "metadata": {},
   "outputs": [
    {
     "name": "stdout",
     "output_type": "stream",
     "text": [
      "   test_neg_mean_absolute_error  test_neg_mean_squared_error  test_max_error\n",
      "0                     -2.312430                    -9.325530       -6.449885\n",
      "1                     -1.746534                    -4.944962       -5.589261\n",
      "2                     -2.562117                   -11.396652      -10.339140\n",
      "3                     -2.018732                    -7.024211       -6.619504\n",
      "4                     -2.279519                    -8.385627       -7.755785\n"
     ]
    }
   ],
   "source": [
    "scaler = StandardScaler()\n",
    "scaler.fit(X_train)\n",
    "X_train = scaler.transform(X_train)\n",
    "X_test = scaler.transform(X_test)\n",
    "model = Ridge(alpha=100)\n",
    "scores = cross_validate(model,X_train,y_train,\n",
    "                        scoring=['neg_mean_absolute_error', 'neg_mean_squared_error',\n",
    "                                 'max_error'],cv=5)\n",
    "df = pd.DataFrame(scores)\n",
    "print(df.drop(['fit_time','score_time'],axis=1))"
   ]
  },
  {
   "cell_type": "code",
   "execution_count": null,
   "id": "5015a27e",
   "metadata": {},
   "outputs": [],
   "source": []
  }
 ],
 "metadata": {
  "kernelspec": {
   "display_name": "Python 3 (ipykernel)",
   "language": "python",
   "name": "python3"
  },
  "language_info": {
   "codemirror_mode": {
    "name": "ipython",
    "version": 3
   },
   "file_extension": ".py",
   "mimetype": "text/x-python",
   "name": "python",
   "nbconvert_exporter": "python",
   "pygments_lexer": "ipython3",
   "version": "3.10.4"
  }
 },
 "nbformat": 4,
 "nbformat_minor": 5
}
