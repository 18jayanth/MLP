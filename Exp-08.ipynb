{
 "cells": [
  {
   "cell_type": "markdown",
   "id": "64ec02d2",
   "metadata": {},
   "source": [
    "### Experiment-8: \n",
    "Write a program to implement k-Nearest Neighbor algorithm to classify the iris \n",
    "data set. Print both correct and wrong predictions."
   ]
  },
  {
   "cell_type": "code",
   "execution_count": 1,
   "id": "eded2276",
   "metadata": {},
   "outputs": [],
   "source": [
    "import pandas as pd\n",
    "from sklearn import tree\n",
    "from sklearn.model_selection import train_test_split\n",
    "from sklearn.preprocessing import StandardScaler\n",
    "from sklearn.neighbors import KNeighborsClassifier\n",
    "from sklearn.metrics import confusion_matrix,accuracy_score"
   ]
  },
  {
   "cell_type": "code",
   "execution_count": 2,
   "id": "30cfe98d",
   "metadata": {},
   "outputs": [],
   "source": [
    "df = pd.read_csv('../All Data_Sets/iris.csv')\n",
    "X = df.drop('species',axis=1)\n",
    "y = df['species']"
   ]
  },
  {
   "cell_type": "code",
   "execution_count": 3,
   "id": "807b3f58",
   "metadata": {},
   "outputs": [],
   "source": [
    "X_train,X_test,y_train,y_test= train_test_split(X,y,test_size=0.2,random_state=101) \n",
    "st_x = StandardScaler() \n",
    "X_train = st_x.fit_transform(X_train)\n",
    "X_test = st_x.transform(X_test)"
   ]
  },
  {
   "cell_type": "code",
   "execution_count": 6,
   "id": "eb39d9a9",
   "metadata": {},
   "outputs": [
    {
     "name": "stdout",
     "output_type": "stream",
     "text": [
      "Predicted values: ['setosa' 'setosa' 'setosa' 'virginica' 'versicolor' 'virginica'\n",
      " 'versicolor' 'versicolor' 'virginica' 'setosa' 'virginica' 'setosa'\n",
      " 'setosa' 'virginica' 'virginica' 'versicolor' 'versicolor' 'versicolor'\n",
      " 'setosa' 'versicolor' 'versicolor' 'setosa' 'versicolor' 'versicolor'\n",
      " 'versicolor' 'versicolor' 'versicolor' 'virginica' 'setosa' 'setosa']\n",
      "[[10  0  0]\n",
      " [ 0 12  0]\n",
      " [ 0  1  7]]\n",
      "Correct Prediction: 0.9666666666666667\n",
      "Wrong Prediction: 0.033333333333333326\n"
     ]
    }
   ],
   "source": [
    "knn= KNeighborsClassifier(n_neighbors=5 ) \n",
    "knn.fit(X_train, y_train)\n",
    "y_pred= knn.predict(X_test) \n",
    "cm= confusion_matrix(y_test, y_pred)\n",
    "print(\"Predicted values:\",y_pred)\n",
    "print(confusion_matrix(y_test,y_pred))\n",
    "print(\"Correct Prediction:\",accuracy_score(y_test, y_pred))\n",
    "print(\"Wrong Prediction:\",1-accuracy_score(y_test, y_pred))"
   ]
  }
 ],
 "metadata": {
  "kernelspec": {
   "display_name": "Python 3 (ipykernel)",
   "language": "python",
   "name": "python3"
  },
  "language_info": {
   "codemirror_mode": {
    "name": "ipython",
    "version": 3
   },
   "file_extension": ".py",
   "mimetype": "text/x-python",
   "name": "python",
   "nbconvert_exporter": "python",
   "pygments_lexer": "ipython3",
   "version": "3.10.4"
  }
 },
 "nbformat": 4,
 "nbformat_minor": 5
}
